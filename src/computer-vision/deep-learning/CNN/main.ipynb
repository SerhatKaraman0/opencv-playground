{
 "cells": [
  {
   "cell_type": "markdown",
   "id": "ab25379f",
   "metadata": {},
   "source": [
    "## Batch Normalization(Optional Layer) and Activation Functions\n",
    "- Batch Normalization makes the learning process faster.\n",
    "## Pooling (Downsampling) Layer\n",
    "- Makes the image size smaller without losing any detail / feature\n",
    "- MaxPooling     -> Gets the max value captured by the filter \n",
    "- AveragePooling -> Gets the average integer value captured by the filter\n",
    "## Fully Connected & Flatten Layer\n",
    "- Turning matrices into 1 dimension series.\n",
    "## Dropout \n",
    "- Reduces overfitting "
   ]
  },
  {
   "cell_type": "markdown",
   "id": "d7e2671d",
   "metadata": {},
   "source": []
  }
 ],
 "metadata": {
  "language_info": {
   "name": "python"
  }
 },
 "nbformat": 4,
 "nbformat_minor": 5
}
